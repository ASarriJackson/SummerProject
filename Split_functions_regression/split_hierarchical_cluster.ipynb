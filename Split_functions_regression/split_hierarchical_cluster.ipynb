{
 "cells": [
  {
   "cell_type": "code",
   "execution_count": 2,
   "metadata": {},
   "outputs": [],
   "source": [
    "import sys\n",
    "sys.path.append('..') \n",
    "from helper_fun import *\n",
    "from sklearn.cluster import AgglomerativeClustering\n",
    "\n",
    "def tanimoto_distance_matrix(fp_list):\n",
    "    \"\"\"Calculate distance matrix for fingerprint list\"\"\"\n",
    "    dissimilarity_matrix = []\n",
    "    # Notice how we are deliberately skipping the first and last items in the list\n",
    "    # because we don't need to compare them against themselves\n",
    "    for i in range(1, len(fp_list)):\n",
    "        # Compare the current fingerprint against all the previous ones in the list\n",
    "        similarities = DataStructs.BulkTanimotoSimilarity(fp_list[i], fp_list[:i])\n",
    "        # Since we need a distance matrix, calculate 1-x for every element in similarity matrix\n",
    "        dissimilarity_matrix.extend([1 - x for x in similarities])\n",
    "    return dissimilarity_matrix\n",
    "\n",
    "#define a function that takes in a list of fingerprints and a cutoff value and returns a list of clusters using agglomerative clustering\n",
    "def hierarchical_cluster_fingerprints(fingerprints, cutoff=0.2):\n",
    "    \"\"\"Cluster fingerprints\n",
    "    Parameters:\n",
    "        fingerprints\n",
    "        cutoff: threshold for the clustering, 0.2 is usual\n",
    "    \"\"\"\n",
    "    # Calculate the Tanimoto distance matrix\n",
    "    distance_matrix = tanimoto_distance_matrix(fingerprints)\n",
    "    # Perform agglomerative clustering\n",
    "    cluster = AgglomerativeClustering(n_clusters=None, affinity='precomputed', linkage='average', distance_threshold=cutoff)\n",
    "    # Return the cluster labels\n",
    "    return cluster.fit_predict(distance_matrix)"
   ]
  },
  {
   "cell_type": "markdown",
   "metadata": {},
   "source": [
    "# Note: unable to get hierarchical clustering to work\n",
    "### trouble with dimension of array we are expecting vs feeding for the cluster.fit_predict\n",
    "### Please look at the hierarchical_cluster_fingerprints function"
   ]
  },
  {
   "cell_type": "code",
   "execution_count": 16,
   "metadata": {},
   "outputs": [],
   "source": [
    "# # Create molecules from SMILES and store in array\n",
    "# compounds = pd.read_csv(\"../COVID_MOONSHOT/compounds_filtered.csv\")\n",
    "# compounds_list = []\n",
    "\n",
    "# for _, chembl_id, smiles in compounds[[\"CID\", \"SMILES\"]].itertuples():\n",
    "#     compounds_list.append((Chem.MolFromSmiles(smiles), chembl_id))\n",
    "# rdkit_gen = rdFingerprintGenerator.GetRDKitFPGenerator(maxPath=5)\n",
    "\n",
    "\n",
    "# fingerprints = fingerprints = [rdkit_gen.GetFingerprint(mol) for mol, idx in compounds_list]\n",
    "# hierarchical_cluster_fingerprints(fingerprints, cutoff=0.2)"
   ]
  }
 ],
 "metadata": {
  "kernelspec": {
   "display_name": "base",
   "language": "python",
   "name": "python3"
  },
  "language_info": {
   "codemirror_mode": {
    "name": "ipython",
    "version": 3
   },
   "file_extension": ".py",
   "mimetype": "text/x-python",
   "name": "python",
   "nbconvert_exporter": "python",
   "pygments_lexer": "ipython3",
   "version": "3.11.7"
  }
 },
 "nbformat": 4,
 "nbformat_minor": 2
}
