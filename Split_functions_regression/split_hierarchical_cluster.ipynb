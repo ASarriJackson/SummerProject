{
 "cells": [
  {
   "cell_type": "code",
   "execution_count": 1,
   "metadata": {},
   "outputs": [
    {
     "name": "stderr",
     "output_type": "stream",
     "text": [
      "2024-07-26 15:49:55.445705: I tensorflow/core/platform/cpu_feature_guard.cc:210] This TensorFlow binary is optimized to use available CPU instructions in performance-critical operations.\n",
      "To enable the following instructions: AVX2 FMA, in other operations, rebuild TensorFlow with the appropriate compiler flags.\n"
     ]
    }
   ],
   "source": [
    "import sys\n",
    "sys.path.append('..') \n",
    "from helper_fun import *\n",
    "\n",
    "from split_furthest_cluster import *\n",
    "from sklearn.cluster import AgglomerativeClustering\n",
    "from sklearn.metrics import calinski_harabasz_score, davies_bouldin_score, silhouette_score\n",
    "\n",
    "from time import time\n",
    "import warnings\n",
    "\n",
    "warnings.simplefilter('ignore', UserWarning)\n"
   ]
  },
  {
   "cell_type": "code",
   "execution_count": 2,
   "metadata": {},
   "outputs": [],
   "source": [
    "\n",
    "def tanimoto_distance_matrix(fp_list):\n",
    "    \"\"\"Calculate distance matrix for fingerprint list\"\"\"\n",
    "    # distance_matrix = []\n",
    "    # # Notice how we are deliberately skipping the first and last items in the list\n",
    "    # # because we don't need to compare them against themselves\n",
    "    # for i in range(1, len(fp_list)):\n",
    "    #     # Compare the current fingerprint against all the previous ones in the list\n",
    "    #     similarities = DataStructs.BulkTanimotoSimilarity(fp_list[i], fp_list[:i])\n",
    "    #     # Since we need a distance matrix, calculate 1-x for every element in similarity matrix\n",
    "    #     distance_matrix.extend([1 - x for x in similarities])\n",
    "    # return distance_matrix\n",
    "    n = len(fp_list)\n",
    "    distance_matrix = np.zeros((n, n))\n",
    "    \n",
    "    for i in range(n):\n",
    "        for j in range(i):\n",
    "            similarity = DataStructs.TanimotoSimilarity(fp_list[i], fp_list[j])\n",
    "            distance = 1 - similarity\n",
    "            distance_matrix[i, j] = distance\n",
    "            distance_matrix[j, i] = distance  # Mirror the distance\n",
    "    \n",
    "    return distance_matrix\n",
    "\n",
    "def assign_cluster_id(df_data, cluster_labels):\n",
    "    '''df_data is a data frame that contains only CID and SMILES columns\n",
    "    '''\n",
    "    print('\\nAssign cluster ID')\n",
    "    # Count the size of each cluster\n",
    "    cluster_sizes = pd.Series(cluster_labels).value_counts()\n",
    "    # Create a mapping from old cluster ID to new cluster ID based on size\n",
    "    cluster_mapping = {old: new for new, old in enumerate(cluster_sizes.index)}\n",
    "    # Reassign cluster IDs\n",
    "    df_data.loc[:, 'Cluster_ID'] = pd.Series(cluster_labels).map(cluster_mapping)\n",
    "    return df_data\n",
    "\n",
    "#define a function that takes in a list of fingerprints and a cutoff value and returns the equivalent cluster labels\n",
    "def hierarchical_cluster_fingerprints(table, distance_threshold=0.12, CID_column='CID', SMILES_column='SMILES', pIC50_column='f_avg_pIC50'):\n",
    "    \"\"\"Cluster fingerprints\n",
    "    Input: whole dataframe (compounds)\n",
    "    Parameters:\n",
    "        fingerprints\n",
    "        cutoff: threshold for the clustering, 0.2 is usual\n",
    "    \"\"\"\n",
    "\n",
    "    t0 = time()\n",
    "    # Generate fingerprints\n",
    "    compounds_list = [(Chem.MolFromSmiles(smiles), chembl_id) for _, chembl_id, smiles in table[[CID_column, SMILES_column]].itertuples()]\n",
    "    rdkit_gen = rdFingerprintGenerator.GetRDKitFPGenerator(maxPath=5)\n",
    "    fingerprints = [rdkit_gen.GetFingerprint(mol) for mol, idx in compounds_list]\n",
    "\n",
    "    # Perform hierarchical clustering\n",
    "    df_data = table[[CID_column, SMILES_column, pIC50_column]].copy()\n",
    "    df_data.loc[:, \"Fingerprints\"] = df_data[SMILES_column].apply(smiles_to_fp)\n",
    "\n",
    "    # Calculate the Tanimoto distance matrix\n",
    "    distance_matrix = tanimoto_distance_matrix(fingerprints)\n",
    "    # Perform agglomerative clustering\n",
    "    cluster = AgglomerativeClustering(metric=\"euclidean\", linkage='ward', distance_threshold=distance_threshold, n_clusters=None)\n",
    "    cluster.fit(distance_matrix)\n",
    "\n",
    "\n",
    "    tf = time() - t0\n",
    "    # Assign cluster ID\n",
    "    df_clusters = assign_cluster_id(df_data, cluster.labels_)\n",
    "    # Metrics\n",
    "    s1 = silhouette_score(distance_matrix, cluster.labels_, metric='euclidean')\n",
    "    c1 = calinski_harabasz_score(distance_matrix, cluster.labels_)\n",
    "    d1 = davies_bouldin_score(distance_matrix, cluster.labels_)\n",
    "    df_metrics = pd.DataFrame(data=[[tf, s1, c1, d1]],\n",
    "                              columns=['Time', 'Silhouette', 'CH score', 'DB score'])\n",
    "    return df_metrics, df_clusters\n"
   ]
  },
  {
   "cell_type": "code",
   "execution_count": 3,
   "metadata": {},
   "outputs": [],
   "source": [
    "def plot_cluster_hist(table, distance_threshold=0.2, CID_column='CID', SMILES_column='SMILES', pIC50_column=\"f_avg_pIC50\", Cluster_ID='Cluster_ID'):\n",
    "    df_metrics, df_clusters = hierarchical_cluster_fingerprints(table, distance_threshold=distance_threshold, CID_column=CID_column, SMILES_column=SMILES_column, pIC50_column=pIC50_column)\n",
    "    plt.figure(figsize=(15, 4))\n",
    "    plt.hist(df_clusters[Cluster_ID], bins=len(df_clusters[Cluster_ID].unique()))\n",
    "    plt.xlabel('Cluster ID')\n",
    "    plt.ylabel('Cluster size')\n",
    "    plt.title(f'Cluster size distribution: distance_threshold={distance_threshold}')\n",
    "    return plt.show()"
   ]
  },
  {
   "cell_type": "code",
   "execution_count": 4,
   "metadata": {},
   "outputs": [],
   "source": [
    "\n",
    "\n",
    "def split_hierarchical_clusters(table, test_size=0.2, random_state=42, distance_threshold=0.2, CID_column='CID', SMILES_column='SMILES', pIC50_column='f_avg_pIC50', shuffle=True, stratify=None):\n",
    "    \"\"\"Split the data based on the cluster ID\n",
    "    \"\"\"\n",
    "    # Set the random seed for reproducibility\n",
    "    np.random.seed(random_state)\n",
    "    \n",
    "    df_metrics, df_clusters = hierarchical_cluster_fingerprints(table, distance_threshold=distance_threshold, CID_column=CID_column, SMILES_column=SMILES_column, pIC50_column=pIC50_column)\n",
    "    df_data = table[[CID_column, SMILES_column, pIC50_column]].copy()\n",
    "    df_data.loc[:, \"Fingerprints\"] = df_data[SMILES_column].apply(smiles_to_fp)\n",
    "    # Get the unique cluster IDs\n",
    "    unique_clusters = df_clusters['Cluster_ID'].unique()\n",
    "    \n",
    "    # Split the clusters into training and testing sets\n",
    "    train_clusters, test_clusters = train_test_split(unique_clusters, test_size=test_size, random_state=random_state, shuffle=shuffle, stratify=stratify)\n",
    "    \n",
    "    # Get the indices of the training and testing data\n",
    "    train_indices = df_clusters.index[df_clusters['Cluster_ID'].isin(train_clusters)]\n",
    "    test_indices = df_clusters.index[df_clusters['Cluster_ID'].isin(test_clusters)]\n",
    "    \n",
    "    # Get the training and testing data\n",
    "    X_train = df_data.loc[train_indices, 'Fingerprints']\n",
    "    X_test = df_data.loc[test_indices, 'Fingerprints']\n",
    "    y_train = df_data.loc[train_indices, 'f_avg_pIC50']\n",
    "    y_test = df_data.loc[test_indices, 'f_avg_pIC50']\n",
    "    \n",
    "    return X_train, X_test, y_train, y_test"
   ]
  },
  {
   "cell_type": "code",
   "execution_count": 5,
   "metadata": {},
   "outputs": [],
   "source": [
    "# Create molecules from SMILES and store in array\n",
    "compounds = pd.read_csv(\"../COVID_MOONSHOT/compounds_filtered.csv\")\n",
    "\n",
    "# df_metrics, df_clusters = hierarchical_cluster_fingerprints(compounds)\n",
    "# # print(df_metrics)\n",
    "# print(df_clusters)"
   ]
  },
  {
   "cell_type": "code",
   "execution_count": 6,
   "metadata": {},
   "outputs": [
    {
     "name": "stdout",
     "output_type": "stream",
     "text": [
      "\n",
      "Assign cluster ID\n"
     ]
    },
    {
     "data": {
      "image/png": "[encoded data removed]",
      "text/plain": [
       "<Figure size 1500x400 with 1 Axes>"
      ]
     },
     "metadata": {},
     "output_type": "display_data"
    },
    {
     "name": "stdout",
     "output_type": "stream",
     "text": [
      "\n",
      "Assign cluster ID\n"
     ]
    },
    {
     "data": {
      "text/plain": [
       "(       Time  Silhouette      CH score  DB score\n",
       " 0  8.315394    0.444689  11845.507041  0.059614,\n",
       "                      CID                                          SMILES  \\\n",
       " 0    DAR-DIA-23aa0b97-19              N#Cc1cccc(NC(=O)Cc2cncc3ccccc23)c1   \n",
       " 1    DAR-DIA-23aa0b97-20                   O=C(Cc1cncc2ccccc12)Nc1ccccc1   \n",
       " 2     TRY-UNI-714a760b-3                 Cc1c(N)cncc1NC(=O)Cc1cccc(Cl)c1   \n",
       " 3     TRY-UNI-714a760b-6                    Cc1ccncc1NC(=O)Cc1cccc(Cl)c1   \n",
       " 4    TRY-UNI-714a760b-12                    Cc1ccncc1NC(=O)Nc1cccc(Cl)c1   \n",
       " ..                   ...                                             ...   \n",
       " 590   RHE-UNK-eb059eb9-1       Cc1ccc(C)c(S(=O)(=O)N2CCN(C(=O)CCl)CC2)c1   \n",
       " 591   HYO-UNK-49a60884-1                 O=C(CCl)N1CCN(Cc2cccc(Cl)c2)CC1   \n",
       " 592   PET-UNK-bcc8fd08-1  CO[C@@]1(C(=O)Nc2cncc3ccccc23)CCOc2ccc(Cl)cc21   \n",
       " 593  BEN-DND-03406596-10          O=C(CCl)N1CCN(S(=O)(=O)c2cccc(F)c2)CC1   \n",
       " 594   MAT-POS-d8472c4f-5          O=C(Nc1cncc2ccccc12)C1CNCc2ccc(Cl)cc21   \n",
       " \n",
       "      f_avg_pIC50                                       Fingerprints  \\\n",
       " 0       4.573171  [0, 0, 0, 0, 0, 0, 0, 0, 0, 0, 0, 0, 0, 0, 0, ...   \n",
       " 1       4.239650  [0, 0, 0, 0, 0, 0, 0, 0, 0, 0, 0, 0, 0, 0, 0, ...   \n",
       " 2       5.374447  [0, 0, 0, 0, 0, 0, 0, 0, 0, 0, 0, 0, 0, 0, 0, ...   \n",
       " 3       4.609397  [0, 0, 0, 0, 0, 0, 0, 0, 0, 0, 0, 0, 0, 0, 0, ...   \n",
       " 4       4.190381  [0, 0, 0, 0, 0, 0, 0, 0, 0, 0, 0, 0, 0, 0, 0, ...   \n",
       " ..           ...                                                ...   \n",
       " 590     4.847208  [0, 0, 0, 0, 0, 0, 0, 0, 0, 0, 0, 0, 0, 0, 0, ...   \n",
       " 591     5.578478  [0, 0, 0, 0, 0, 0, 0, 0, 0, 0, 0, 0, 0, 0, 0, ...   \n",
       " 592     7.075550  [0, 0, 0, 0, 0, 0, 0, 0, 0, 0, 0, 0, 0, 0, 0, ...   \n",
       " 593     5.415244  [0, 0, 0, 0, 0, 0, 0, 0, 0, 0, 0, 0, 0, 0, 0, ...   \n",
       " 594     5.709210  [0, 0, 0, 0, 0, 0, 0, 0, 0, 0, 0, 0, 0, 0, 0, ...   \n",
       " \n",
       "      Cluster_ID  \n",
       " 0           239  \n",
       " 1           335  \n",
       " 2           307  \n",
       " 3           306  \n",
       " 4            93  \n",
       " ..          ...  \n",
       " 590          11  \n",
       " 591           5  \n",
       " 592           9  \n",
       " 593          10  \n",
       " 594          40  \n",
       " \n",
       " [595 rows x 5 columns])"
      ]
     },
     "execution_count": 6,
     "metadata": {},
     "output_type": "execute_result"
    }
   ],
   "source": [
    "plot_cluster_hist(compounds, distance_threshold=0.2, CID_column='CID', SMILES_column='SMILES', Cluster_ID='Cluster_ID')\n",
    "hierarchical_cluster_fingerprints(compounds, distance_threshold=0.2, CID_column='CID', SMILES_column='SMILES')"
   ]
  },
  {
   "cell_type": "code",
   "execution_count": 7,
   "metadata": {},
   "outputs": [
    {
     "name": "stdout",
     "output_type": "stream",
     "text": [
      "\n",
      "Assign cluster ID\n"
     ]
    }
   ],
   "source": [
    "# Example usage\n",
    "X_train, X_test, y_train, y_test = split_hierarchical_clusters(compounds)\n",
    "\n",
    "# print(f\"X_train shape: {type(X_train)}\")\n",
    "# print(f\"y_train shape: {type(y_train)}\")\n",
    "# print(f\"X_test shape: {type(X_test)}\")\n",
    "# print(f\"y_test shape: {type(y_test)}\")"
   ]
  }
 ],
 "metadata": {
  "kernelspec": {
   "display_name": "base",
   "language": "python",
   "name": "python3"
  },
  "language_info": {
   "codemirror_mode": {
    "name": "ipython",
    "version": 3
   },
   "file_extension": ".py",
   "mimetype": "text/x-python",
   "name": "python",
   "nbconvert_exporter": "python",
   "pygments_lexer": "ipython3",
   "version": "3.11.7"
  }
 },
 "nbformat": 4,
 "nbformat_minor": 2
}
