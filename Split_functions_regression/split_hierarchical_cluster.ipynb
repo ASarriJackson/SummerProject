{
 "cells": [
  {
   "cell_type": "code",
   "execution_count": 1,
   "metadata": {},
   "outputs": [
    {
     "name": "stderr",
     "output_type": "stream",
     "text": [
      "2024-07-25 15:49:20.989446: I tensorflow/core/platform/cpu_feature_guard.cc:210] This TensorFlow binary is optimized to use available CPU instructions in performance-critical operations.\n",
      "To enable the following instructions: AVX2 FMA, in other operations, rebuild TensorFlow with the appropriate compiler flags.\n"
     ]
    }
   ],
   "source": [
    "import sys\n",
    "sys.path.append('..') \n",
    "from helper_fun import *\n",
    "\n",
    "from split_furthest_cluster import *\n",
    "from sklearn.cluster import AgglomerativeClustering\n",
    "from sklearn.metrics import calinski_harabasz_score, davies_bouldin_score, silhouette_score\n",
    "\n",
    "from time import time\n",
    "import warnings\n",
    "\n",
    "warnings.simplefilter('ignore', UserWarning)\n"
   ]
  },
  {
   "cell_type": "code",
   "execution_count": 6,
   "metadata": {},
   "outputs": [],
   "source": [
    "\n",
    "def tanimoto_distance_matrix(fp_list):\n",
    "    \"\"\"Calculate distance matrix for fingerprint list\"\"\"\n",
    "    # distance_matrix = []\n",
    "    # # Notice how we are deliberately skipping the first and last items in the list\n",
    "    # # because we don't need to compare them against themselves\n",
    "    # for i in range(1, len(fp_list)):\n",
    "    #     # Compare the current fingerprint against all the previous ones in the list\n",
    "    #     similarities = DataStructs.BulkTanimotoSimilarity(fp_list[i], fp_list[:i])\n",
    "    #     # Since we need a distance matrix, calculate 1-x for every element in similarity matrix\n",
    "    #     distance_matrix.extend([1 - x for x in similarities])\n",
    "    # return distance_matrix\n",
    "    n = len(fp_list)\n",
    "    distance_matrix = np.zeros((n, n))\n",
    "    \n",
    "    for i in range(n):\n",
    "        for j in range(i):\n",
    "            similarity = DataStructs.TanimotoSimilarity(fp_list[i], fp_list[j])\n",
    "            distance = 1 - similarity\n",
    "            distance_matrix[i, j] = distance\n",
    "            distance_matrix[j, i] = distance  # Mirror the distance\n",
    "    \n",
    "    return distance_matrix\n",
    "\n",
    "def assign_cluster_id(df_data, cluster_labels):\n",
    "    '''df_data is a data frame that contains only CID and SMILES columns\n",
    "    '''\n",
    "    print('\\nAssign cluster ID')\n",
    "    df_data['Cluster_ID'] = cluster_labels\n",
    "    return df_data\n",
    "\n",
    "#define a function that takes in a list of fingerprints and a cutoff value and returns the equivalent cluster labels\n",
    "def hierarchical_cluster_fingerprints(table, distance_threshold=0.2, CID_column='CID', SMILES_column='SMILES'):\n",
    "    \"\"\"Cluster fingerprints\n",
    "    Input: whole dataframe (compounds)\n",
    "    Parameters:\n",
    "        fingerprints\n",
    "        cutoff: threshold for the clustering, 0.2 is usual\n",
    "    \"\"\"\n",
    "    t0 = time()\n",
    "    # Generate fingerprints\n",
    "    compounds_list = [(Chem.MolFromSmiles(smiles), chembl_id) for _, chembl_id, smiles in table[[CID_column, SMILES_column]].itertuples()]\n",
    "    rdkit_gen = rdFingerprintGenerator.GetRDKitFPGenerator(maxPath=5)\n",
    "    fingerprints = [rdkit_gen.GetFingerprint(mol) for mol, idx in compounds_list]\n",
    "\n",
    "    # Perform hierarchical clustering\n",
    "    df_data = table[[CID_column, SMILES_column]]\n",
    "\n",
    "    # Calculate the Tanimoto distance matrix\n",
    "    distance_matrix = tanimoto_distance_matrix(fingerprints)\n",
    "    # Perform agglomerative clustering\n",
    "    cluster = AgglomerativeClustering(metric=\"euclidean\", linkage='ward', distance_threshold=distance_threshold, n_clusters=None)\n",
    "    cluster.fit(distance_matrix)\n",
    "\n",
    "\n",
    "    tf = time() - t0\n",
    "    # Assign cluster ID\n",
    "    df_clusters = assign_cluster_id(pd.DataFrame(fingerprints), cluster.labels_)\n",
    "    # Metrics\n",
    "    s1 = silhouette_score(distance_matrix, cluster.labels_, metric='euclidean')\n",
    "    c1 = calinski_harabasz_score(distance_matrix, cluster.labels_)\n",
    "    d1 = davies_bouldin_score(distance_matrix, cluster.labels_)\n",
    "    df_metrics = pd.DataFrame(data=[[tf, s1, c1, d1]],\n",
    "                              columns=['Time', 'Silhouette', 'CH score', 'DB score'])\n",
    "    return df_metrics, df_clusters\n"
   ]
  },
  {
   "cell_type": "code",
   "execution_count": 8,
   "metadata": {},
   "outputs": [
    {
     "name": "stdout",
     "output_type": "stream",
     "text": [
      "\n",
      "Assign cluster ID\n",
      "       Time  Silhouette      CH score  DB score\n",
      "0  1.630398    0.444689  11845.507041  0.059614\n",
      "                                                   0  Cluster_ID\n",
      "0  [1, 0, 0, 0, 0, 1, 0, 0, 0, 0, 0, 1, 0, 0, 0, ...         389\n",
      "1  [1, 0, 0, 0, 0, 1, 0, 0, 0, 0, 0, 1, 0, 0, 0, ...         346\n",
      "2  [1, 0, 1, 0, 0, 1, 0, 0, 0, 0, 0, 1, 0, 0, 0, ...         421\n",
      "3  [1, 0, 1, 0, 0, 1, 0, 0, 0, 0, 0, 1, 0, 0, 0, ...         404\n",
      "4  [1, 0, 1, 0, 0, 1, 0, 0, 0, 0, 0, 1, 0, 1, 0, ...          42\n"
     ]
    }
   ],
   "source": [
    "# Create molecules from SMILES and store in array\n",
    "compounds = pd.read_csv(\"../COVID_MOONSHOT/compounds_filtered.csv\")\n",
    "\n",
    "# # Generate fingerprints\n",
    "# compounds_list = [(Chem.MolFromSmiles(smiles), chembl_id) for _, chembl_id, smiles in compounds[[\"CID\", \"SMILES\"]].itertuples()]\n",
    "# rdkit_gen = rdFingerprintGenerator.GetRDKitFPGenerator(maxPath=5)\n",
    "# fingerprints = [rdkit_gen.GetFingerprint(mol) for mol, idx in compounds_list]\n",
    "\n",
    "# # Perform hierarchical clustering\n",
    "# df_data = compounds[[\"CID\", \"SMILES\"]]\n",
    "df_metrics, df_clusters = hierarchical_cluster_fingerprints(compounds)\n",
    "print(df_metrics)\n",
    "print(df_clusters.head())\n",
    "\n"
   ]
  }
 ],
 "metadata": {
  "kernelspec": {
   "display_name": "base",
   "language": "python",
   "name": "python3"
  },
  "language_info": {
   "codemirror_mode": {
    "name": "ipython",
    "version": 3
   },
   "file_extension": ".py",
   "mimetype": "text/x-python",
   "name": "python",
   "nbconvert_exporter": "python",
   "pygments_lexer": "ipython3",
   "version": "3.11.7"
  }
 },
 "nbformat": 4,
 "nbformat_minor": 2
}
