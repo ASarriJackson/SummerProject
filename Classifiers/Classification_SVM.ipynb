{
 "cells": [
  {
   "cell_type": "code",
   "execution_count": 1,
   "metadata": {},
   "outputs": [
    {
     "data": {
      "text/html": [
       "<div>\n",
       "<style scoped>\n",
       "    .dataframe tbody tr th:only-of-type {\n",
       "        vertical-align: middle;\n",
       "    }\n",
       "\n",
       "    .dataframe tbody tr th {\n",
       "        vertical-align: top;\n",
       "    }\n",
       "\n",
       "    .dataframe thead th {\n",
       "        text-align: right;\n",
       "    }\n",
       "</style>\n",
       "<table border=\"1\" class=\"dataframe\">\n",
       "  <thead>\n",
       "    <tr style=\"text-align: right;\">\n",
       "      <th></th>\n",
       "      <th>Unnamed: 0</th>\n",
       "      <th>SMILES</th>\n",
       "      <th>CID</th>\n",
       "      <th>f_avg_IC50</th>\n",
       "      <th>r_avg_IC50</th>\n",
       "      <th>ROMol</th>\n",
       "      <th>molecular_weight</th>\n",
       "      <th>n_hba</th>\n",
       "      <th>n_hbd</th>\n",
       "      <th>logp</th>\n",
       "      <th>Ro5_fulfilled</th>\n",
       "      <th>f_avg_pIC50</th>\n",
       "      <th>r_avg_pIC50</th>\n",
       "    </tr>\n",
       "  </thead>\n",
       "  <tbody>\n",
       "    <tr>\n",
       "      <th>0</th>\n",
       "      <td>35</td>\n",
       "      <td>N#Cc1cccc(NC(=O)Cc2cncc3ccccc23)c1</td>\n",
       "      <td>DAR-DIA-23aa0b97-19</td>\n",
       "      <td>26.719515</td>\n",
       "      <td>14.641091</td>\n",
       "      <td>&lt;rdkit.Chem.rdchem.Mol object at 0x7fc319ac34c0&gt;</td>\n",
       "      <td>287.105862</td>\n",
       "      <td>3</td>\n",
       "      <td>1</td>\n",
       "      <td>3.28768</td>\n",
       "      <td>True</td>\n",
       "      <td>4.573171</td>\n",
       "      <td>4.834427</td>\n",
       "    </tr>\n",
       "    <tr>\n",
       "      <th>1</th>\n",
       "      <td>36</td>\n",
       "      <td>O=C(Cc1cncc2ccccc12)Nc1ccccc1</td>\n",
       "      <td>DAR-DIA-23aa0b97-20</td>\n",
       "      <td>57.590417</td>\n",
       "      <td>45.077469</td>\n",
       "      <td>&lt;rdkit.Chem.rdchem.Mol object at 0x7fc319ac3530&gt;</td>\n",
       "      <td>262.110613</td>\n",
       "      <td>2</td>\n",
       "      <td>1</td>\n",
       "      <td>3.41600</td>\n",
       "      <td>True</td>\n",
       "      <td>4.239650</td>\n",
       "      <td>4.346040</td>\n",
       "    </tr>\n",
       "  </tbody>\n",
       "</table>\n",
       "</div>"
      ],
      "text/plain": [
       "   Unnamed: 0                              SMILES                  CID  \\\n",
       "0          35  N#Cc1cccc(NC(=O)Cc2cncc3ccccc23)c1  DAR-DIA-23aa0b97-19   \n",
       "1          36       O=C(Cc1cncc2ccccc12)Nc1ccccc1  DAR-DIA-23aa0b97-20   \n",
       "\n",
       "   f_avg_IC50  r_avg_IC50                                             ROMol  \\\n",
       "0   26.719515   14.641091  <rdkit.Chem.rdchem.Mol object at 0x7fc319ac34c0>   \n",
       "1   57.590417   45.077469  <rdkit.Chem.rdchem.Mol object at 0x7fc319ac3530>   \n",
       "\n",
       "   molecular_weight  n_hba  n_hbd     logp  Ro5_fulfilled  f_avg_pIC50  \\\n",
       "0        287.105862      3      1  3.28768           True     4.573171   \n",
       "1        262.110613      2      1  3.41600           True     4.239650   \n",
       "\n",
       "   r_avg_pIC50  \n",
       "0     4.834427  \n",
       "1     4.346040  "
      ]
     },
     "execution_count": 1,
     "metadata": {},
     "output_type": "execute_result"
    }
   ],
   "source": [
    "import sys\n",
    "sys.path.append('..')\n",
    "\n",
    "from helper_fun import *\n",
    "import helper_fun\n",
    "from Split_functions_classify.splits_two import *\n",
    "from Split_functions_classify.splits_three import *\n",
    "from Split_functions_classify.splits_ten import *\n",
    "\n",
    "SEED = 22\n",
    "seed_everything(SEED)\n",
    "\n",
    "compounds = pd.read_csv('../COVID_MOONSHOT/compounds_filtered.csv')\n",
    "compounds.head(2)"
   ]
  },
  {
   "cell_type": "code",
   "execution_count": 2,
   "metadata": {},
   "outputs": [],
   "source": [
    "two_split(compounds)\n",
    "three_split(compounds)\n",
    "ten_split(compounds).head()\n",
    "compound_df = compounds.copy()\n",
    "compound_df[\"maccs\"] = compound_df[\"SMILES\"].apply(smiles_to_fp,)"
   ]
  },
  {
   "cell_type": "code",
   "execution_count": 4,
   "metadata": {},
   "outputs": [
    {
     "name": "stdout",
     "output_type": "stream",
     "text": [
      "Training data size: 476\n",
      "Test data size: 119\n"
     ]
    }
   ],
   "source": [
    "#change variables to _2 at end\n",
    "fingerprint_to_model_2 = compound_df.maccs.tolist()\n",
    "label_to_model_2 = compound_df.bin_2.tolist()\n",
    "\n",
    "# Split data randomly in train and test set\n",
    "# note that we use test/train_x for the respective fingerprint splits\n",
    "# and test/train_y for the respective label splits\n",
    "(\n",
    "    static_train_x_2,\n",
    "    static_test_x_2,\n",
    "    static_train_y_2,\n",
    "    static_test_y_2,\n",
    ") = train_test_split(fingerprint_to_model_2, label_to_model_2, test_size=0.2, random_state=SEED)\n",
    "splits_2 = [static_train_x_2, static_test_x_2, static_train_y_2, static_test_y_2]\n",
    "# NBVAL_CHECK_OUTPUT\n",
    "print(\"Training data size:\", len(static_train_x_2))\n",
    "print(\"Test data size:\", len(static_test_x_2))\n"
   ]
  },
  {
   "cell_type": "code",
   "execution_count": 8,
   "metadata": {},
   "outputs": [],
   "source": [
    "# Specify models for 3 bin types\n",
    "model_SVM_2 = svm.SVC(kernel=\"rbf\", C=1, gamma=0.1, probability=True)\n",
    "model_SVM_3 = svm.SVC(kernel=\"rbf\", C=1, gamma=0.1, probability=True)\n",
    "model_SVM_10 = svm.SVC(kernel=\"rbf\", C=1, gamma=0.1, probability=True)"
   ]
  },
  {
   "cell_type": "code",
   "execution_count": null,
   "metadata": {},
   "outputs": [],
   "source": [
    "\n",
    "# Append SVM model\n",
    "# models.append({\"label\": \"Model_SVM\", \"model\": model_SVM})\n"
   ]
  },
  {
   "cell_type": "code",
   "execution_count": null,
   "metadata": {},
   "outputs": [],
   "source": [
    "# models_RF_2 = [{\"label\": \"RF: 2 Split\", \"model\": model_RF_2}]\n",
    "# # models_RF.append({\"label\": \"RF: 3 Split\", \"model\": model_RF_3})\n",
    "# # models_RF.append({\"label\": \"RF: 10 Split\", \"model\": model_RF_10})\n",
    "# plot_roc_curves_for_models(models_RF_2, static_test_x_2, static_test_y_2)"
   ]
  }
 ],
 "metadata": {
  "kernelspec": {
   "display_name": "base",
   "language": "python",
   "name": "python3"
  },
  "language_info": {
   "codemirror_mode": {
    "name": "ipython",
    "version": 3
   },
   "file_extension": ".py",
   "mimetype": "text/x-python",
   "name": "python",
   "nbconvert_exporter": "python",
   "pygments_lexer": "ipython3",
   "version": "3.11.7"
  }
 },
 "nbformat": 4,
 "nbformat_minor": 2
}
