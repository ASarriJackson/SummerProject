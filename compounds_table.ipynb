{
 "cells": [
  {
   "cell_type": "code",
   "execution_count": 1,
   "metadata": {},
   "outputs": [
    {
     "name": "stderr",
     "output_type": "stream",
     "text": [
      "2024-08-08 23:28:41.697640: I tensorflow/core/platform/cpu_feature_guard.cc:210] This TensorFlow binary is optimized to use available CPU instructions in performance-critical operations.\n",
      "To enable the following instructions: AVX2 FMA, in other operations, rebuild TensorFlow with the appropriate compiler flags.\n"
     ]
    }
   ],
   "source": [
    "from helper_fun import *\n",
    "HERE = Path(_dh[-1])\n",
    "DATA = HERE / \"data\""
   ]
  },
  {
   "cell_type": "code",
   "execution_count": 2,
   "metadata": {},
   "outputs": [
    {
     "name": "stdout",
     "output_type": "stream",
     "text": [
      "Initial Number of Molecules: 529\n"
     ]
    },
    {
     "data": {
      "text/html": [
       "<div>\n",
       "<style scoped>\n",
       "    .dataframe tbody tr th:only-of-type {\n",
       "        vertical-align: middle;\n",
       "    }\n",
       "\n",
       "    .dataframe tbody tr th {\n",
       "        vertical-align: top;\n",
       "    }\n",
       "\n",
       "    .dataframe thead th {\n",
       "        text-align: right;\n",
       "    }\n",
       "</style>\n",
       "<table border=\"1\" class=\"dataframe\">\n",
       "  <thead>\n",
       "    <tr style=\"text-align: right;\">\n",
       "      <th></th>\n",
       "      <th>SMILES</th>\n",
       "      <th>CID</th>\n",
       "      <th>r_avg_IC50</th>\n",
       "      <th>f_avg_IC50</th>\n",
       "    </tr>\n",
       "  </thead>\n",
       "  <tbody>\n",
       "    <tr>\n",
       "      <th>35</th>\n",
       "      <td>N#Cc1cccc(NC(=O)Cc2cncc3ccccc23)c1</td>\n",
       "      <td>DAR-DIA-23aa0b97-19</td>\n",
       "      <td>14.641091</td>\n",
       "      <td>26.719515</td>\n",
       "    </tr>\n",
       "    <tr>\n",
       "      <th>36</th>\n",
       "      <td>O=C(Cc1cncc2ccccc12)Nc1ccccc1</td>\n",
       "      <td>DAR-DIA-23aa0b97-20</td>\n",
       "      <td>45.077469</td>\n",
       "      <td>57.590417</td>\n",
       "    </tr>\n",
       "    <tr>\n",
       "      <th>126</th>\n",
       "      <td>Cc1c(N)cncc1NC(=O)Cc1cccc(Cl)c1</td>\n",
       "      <td>TRY-UNI-714a760b-3</td>\n",
       "      <td>8.201698</td>\n",
       "      <td>4.222340</td>\n",
       "    </tr>\n",
       "    <tr>\n",
       "      <th>129</th>\n",
       "      <td>Cc1ccncc1NC(=O)Cc1cccc(Cl)c1</td>\n",
       "      <td>TRY-UNI-714a760b-6</td>\n",
       "      <td>13.895165</td>\n",
       "      <td>24.581194</td>\n",
       "    </tr>\n",
       "    <tr>\n",
       "      <th>135</th>\n",
       "      <td>Cc1ccncc1NC(=O)Nc1cccc(Cl)c1</td>\n",
       "      <td>TRY-UNI-714a760b-12</td>\n",
       "      <td>45.689263</td>\n",
       "      <td>64.508813</td>\n",
       "    </tr>\n",
       "  </tbody>\n",
       "</table>\n",
       "</div>"
      ],
      "text/plain": [
       "                                 SMILES                  CID  r_avg_IC50  \\\n",
       "35   N#Cc1cccc(NC(=O)Cc2cncc3ccccc23)c1  DAR-DIA-23aa0b97-19   14.641091   \n",
       "36        O=C(Cc1cncc2ccccc12)Nc1ccccc1  DAR-DIA-23aa0b97-20   45.077469   \n",
       "126     Cc1c(N)cncc1NC(=O)Cc1cccc(Cl)c1   TRY-UNI-714a760b-3    8.201698   \n",
       "129        Cc1ccncc1NC(=O)Cc1cccc(Cl)c1   TRY-UNI-714a760b-6   13.895165   \n",
       "135        Cc1ccncc1NC(=O)Nc1cccc(Cl)c1  TRY-UNI-714a760b-12   45.689263   \n",
       "\n",
       "     f_avg_IC50  \n",
       "35    26.719515  \n",
       "36    57.590417  \n",
       "126    4.222340  \n",
       "129   24.581194  \n",
       "135   64.508813  "
      ]
     },
     "execution_count": 2,
     "metadata": {},
     "output_type": "execute_result"
    }
   ],
   "source": [
    "compounds = pd.read_csv(\"COVID_MOONSHOT/covid_submissions_all_info.csv\", header = 0, usecols=[\"CID\", \"SMILES\",\"r_avg_IC50\", \"f_avg_IC50\"])\n",
    "compounds.dropna(axis=0, how=\"any\", subset = [\"r_avg_IC50\", \"f_avg_IC50\"], inplace=True)\n",
    "compounds.drop([\"r_avg_IC50\", \"f_avg_IC50\"], axis=1)\n",
    "compounds.drop_duplicates(\"CID\", keep=\"first\", inplace=True)\n",
    "compounds.drop_duplicates(\"SMILES\", keep=\"first\", inplace=True)\n",
    "print(f\"Initial Number of Molecules: {len(compounds)}\")\n",
    "compounds.head()"
   ]
  },
  {
   "cell_type": "code",
   "execution_count": 3,
   "metadata": {},
   "outputs": [
    {
     "data": {
      "text/html": [
       "<div>\n",
       "<style scoped>\n",
       "    .dataframe tbody tr th:only-of-type {\n",
       "        vertical-align: middle;\n",
       "    }\n",
       "\n",
       "    .dataframe tbody tr th {\n",
       "        vertical-align: top;\n",
       "    }\n",
       "\n",
       "    .dataframe thead th {\n",
       "        text-align: right;\n",
       "    }\n",
       "</style>\n",
       "<table border=\"1\" class=\"dataframe\">\n",
       "  <thead>\n",
       "    <tr style=\"text-align: right;\">\n",
       "      <th></th>\n",
       "      <th>SMILES</th>\n",
       "      <th>CID</th>\n",
       "      <th>ROMol</th>\n",
       "      <th>molecular_weight</th>\n",
       "      <th>n_hba</th>\n",
       "      <th>n_hbd</th>\n",
       "      <th>logp</th>\n",
       "      <th>f_avg_pIC50</th>\n",
       "      <th>r_avg_pIC50</th>\n",
       "    </tr>\n",
       "  </thead>\n",
       "  <tbody>\n",
       "    <tr>\n",
       "      <th>35</th>\n",
       "      <td>N#Cc1cccc(NC(=O)Cc2cncc3ccccc23)c1</td>\n",
       "      <td>DAR-DIA-23aa0b97-19</td>\n",
       "      <td>&lt;rdkit.Chem.rdchem.Mol object at 0x1683ef220&gt;</td>\n",
       "      <td>287.105862</td>\n",
       "      <td>3</td>\n",
       "      <td>1</td>\n",
       "      <td>3.28768</td>\n",
       "      <td>4.573171</td>\n",
       "      <td>4.834427</td>\n",
       "    </tr>\n",
       "    <tr>\n",
       "      <th>36</th>\n",
       "      <td>O=C(Cc1cncc2ccccc12)Nc1ccccc1</td>\n",
       "      <td>DAR-DIA-23aa0b97-20</td>\n",
       "      <td>&lt;rdkit.Chem.rdchem.Mol object at 0x1683ee1f0&gt;</td>\n",
       "      <td>262.110613</td>\n",
       "      <td>2</td>\n",
       "      <td>1</td>\n",
       "      <td>3.41600</td>\n",
       "      <td>4.239650</td>\n",
       "      <td>4.346040</td>\n",
       "    </tr>\n",
       "    <tr>\n",
       "      <th>126</th>\n",
       "      <td>Cc1c(N)cncc1NC(=O)Cc1cccc(Cl)c1</td>\n",
       "      <td>TRY-UNI-714a760b-3</td>\n",
       "      <td>&lt;rdkit.Chem.rdchem.Mol object at 0x1683ee180&gt;</td>\n",
       "      <td>275.082540</td>\n",
       "      <td>3</td>\n",
       "      <td>2</td>\n",
       "      <td>2.80682</td>\n",
       "      <td>5.374447</td>\n",
       "      <td>5.086096</td>\n",
       "    </tr>\n",
       "    <tr>\n",
       "      <th>129</th>\n",
       "      <td>Cc1ccncc1NC(=O)Cc1cccc(Cl)c1</td>\n",
       "      <td>TRY-UNI-714a760b-6</td>\n",
       "      <td>&lt;rdkit.Chem.rdchem.Mol object at 0x1683ee110&gt;</td>\n",
       "      <td>260.071641</td>\n",
       "      <td>2</td>\n",
       "      <td>1</td>\n",
       "      <td>3.22462</td>\n",
       "      <td>4.609397</td>\n",
       "      <td>4.857136</td>\n",
       "    </tr>\n",
       "    <tr>\n",
       "      <th>135</th>\n",
       "      <td>Cc1ccncc1NC(=O)Nc1cccc(Cl)c1</td>\n",
       "      <td>TRY-UNI-714a760b-12</td>\n",
       "      <td>&lt;rdkit.Chem.rdchem.Mol object at 0x1683ee0a0&gt;</td>\n",
       "      <td>261.066890</td>\n",
       "      <td>2</td>\n",
       "      <td>2</td>\n",
       "      <td>3.68742</td>\n",
       "      <td>4.190381</td>\n",
       "      <td>4.340186</td>\n",
       "    </tr>\n",
       "  </tbody>\n",
       "</table>\n",
       "</div>"
      ],
      "text/plain": [
       "                                 SMILES                  CID  \\\n",
       "35   N#Cc1cccc(NC(=O)Cc2cncc3ccccc23)c1  DAR-DIA-23aa0b97-19   \n",
       "36        O=C(Cc1cncc2ccccc12)Nc1ccccc1  DAR-DIA-23aa0b97-20   \n",
       "126     Cc1c(N)cncc1NC(=O)Cc1cccc(Cl)c1   TRY-UNI-714a760b-3   \n",
       "129        Cc1ccncc1NC(=O)Cc1cccc(Cl)c1   TRY-UNI-714a760b-6   \n",
       "135        Cc1ccncc1NC(=O)Nc1cccc(Cl)c1  TRY-UNI-714a760b-12   \n",
       "\n",
       "                                             ROMol  molecular_weight  n_hba  \\\n",
       "35   <rdkit.Chem.rdchem.Mol object at 0x1683ef220>        287.105862      3   \n",
       "36   <rdkit.Chem.rdchem.Mol object at 0x1683ee1f0>        262.110613      2   \n",
       "126  <rdkit.Chem.rdchem.Mol object at 0x1683ee180>        275.082540      3   \n",
       "129  <rdkit.Chem.rdchem.Mol object at 0x1683ee110>        260.071641      2   \n",
       "135  <rdkit.Chem.rdchem.Mol object at 0x1683ee0a0>        261.066890      2   \n",
       "\n",
       "     n_hbd     logp  f_avg_pIC50  r_avg_pIC50  \n",
       "35       1  3.28768     4.573171     4.834427  \n",
       "36       1  3.41600     4.239650     4.346040  \n",
       "126      2  2.80682     5.374447     5.086096  \n",
       "129      1  3.22462     4.609397     4.857136  \n",
       "135      2  3.68742     4.190381     4.340186  "
      ]
     },
     "execution_count": 3,
     "metadata": {},
     "output_type": "execute_result"
    }
   ],
   "source": [
    "PandasTools.AddMoleculeColumnToFrame(compounds, \"SMILES\")\n",
    "compounds[\"molecular_weight\"] = compounds[\"ROMol\"].apply(Descriptors.ExactMolWt)\n",
    "compounds[\"n_hba\"] = compounds[\"ROMol\"].apply(Descriptors.NumHAcceptors)\n",
    "compounds[\"n_hbd\"] = compounds[\"ROMol\"].apply(Descriptors.NumHDonors)\n",
    "compounds[\"logp\"] = compounds[\"ROMol\"].apply(Descriptors.MolLogP)\n",
    "\n",
    "#Add pIC50 columns\n",
    "compounds[\"f_avg_pIC50\"] = compounds.apply(lambda x: convert_ic50_to_pic50(x.f_avg_IC50), axis=1)\n",
    "compounds[\"r_avg_pIC50\"] = compounds.apply(lambda x: convert_ic50_to_pic50(x.r_avg_IC50), axis=1)\n",
    "\n",
    "#Delete IC50 columns\n",
    "compounds.drop([\"r_avg_IC50\", \"f_avg_IC50\"], axis=1, inplace=True)\n",
    "\n",
    "compounds.head()"
   ]
  },
  {
   "cell_type": "code",
   "execution_count": 4,
   "metadata": {},
   "outputs": [
    {
     "name": "stdout",
     "output_type": "stream",
     "text": [
      "Number of molecules that satisfy Ro5: 471\n"
     ]
    }
   ],
   "source": [
    "compounds[\"Ro5_fulfilled\"] = compounds[\"SMILES\"].apply(filter_ro5_properties)\n",
    "compounds = compounds[compounds[\"Ro5_fulfilled\"] == True]\n",
    "print(f\"Number of molecules that satisfy Ro5: {len(compounds)}\")"
   ]
  },
  {
   "cell_type": "code",
   "execution_count": 5,
   "metadata": {},
   "outputs": [
    {
     "name": "stdout",
     "output_type": "stream",
     "text": [
      "Number of molecules after removing duplicates: 471\n"
     ]
    }
   ],
   "source": [
    "# Delete molecules that have identical SMILES and ROMol and f_avg_pIC50 columns\n",
    "compounds.drop_duplicates(subset=[\"SMILES\", \"ROMol\", \"molecular_weight\", \"f_avg_pIC50\", \"r_avg_pIC50\"], keep=\"first\", inplace=True)\n",
    "print(f\"Number of molecules after removing duplicates: {len(compounds)}\")"
   ]
  },
  {
   "cell_type": "code",
   "execution_count": 6,
   "metadata": {},
   "outputs": [
    {
     "data": {
      "image/png": "[encoded data removed]",
      "text/plain": [
       "<Figure size 640x480 with 1 Axes>"
      ]
     },
     "metadata": {},
     "output_type": "display_data"
    }
   ],
   "source": [
    "# plot histogram of f_avg_pIC50 with 20 bins\n",
    "plt.hist(compounds[\"f_avg_pIC50\"], bins=20)\n",
    "plt.xlabel(\"f_avg_pIC50\")\n",
    "plt.ylabel(\"Frequency\")\n",
    "plt.title(\"Histogram of f_avg_pIC50\")\n",
    "plt.show()\n"
   ]
  },
  {
   "cell_type": "code",
   "execution_count": 7,
   "metadata": {},
   "outputs": [],
   "source": [
    "# export the dataframe to a csv file\n",
    "compounds.to_csv(\"COVID_MOONSHOT/compounds_filtered.csv\", index=False)"
   ]
  }
 ],
 "metadata": {
  "kernelspec": {
   "display_name": "base",
   "language": "python",
   "name": "python3"
  },
  "language_info": {
   "codemirror_mode": {
    "name": "ipython",
    "version": 3
   },
   "file_extension": ".py",
   "mimetype": "text/x-python",
   "name": "python",
   "nbconvert_exporter": "python",
   "pygments_lexer": "ipython3",
   "version": "3.11.7"
  }
 },
 "nbformat": 4,
 "nbformat_minor": 2
}
